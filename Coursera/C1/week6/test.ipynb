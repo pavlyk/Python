{
 "metadata": {
  "language_info": {
   "codemirror_mode": {
    "name": "ipython",
    "version": 3
   },
   "file_extension": ".py",
   "mimetype": "text/x-python",
   "name": "python",
   "nbconvert_exporter": "python",
   "pygments_lexer": "ipython3",
   "version": "3.7.4-final"
  },
  "orig_nbformat": 2,
  "kernelspec": {
   "name": "python3",
   "display_name": "Python 3",
   "language": "python"
  }
 },
 "nbformat": 4,
 "nbformat_minor": 2,
 "cells": [
  {
   "cell_type": "code",
   "execution_count": 31,
   "metadata": {},
   "outputs": [
    {
     "output_type": "execute_result",
     "data": {
      "text/plain": [
       "[['hhh', 123, 5555],\n",
       " ['ttt', 333, 5555],\n",
       " ['hhhj', 444, 4444],\n",
       " ['uuu', 333, 5555]]"
      ]
     },
     "metadata": {},
     "execution_count": 31
    }
   ],
   "source": [
    "test = [{'hhh':(123, 5555)},{'ttt':(333, 5555)},{'hhhj':(444, 4444)},{'uuu':(333, 5555)}]\n",
    "# print(set(test))\n",
    "# key = 'ggg'\n",
    "\n",
    "newlist = []\n",
    "for i in test:\n",
    "    for k, v in i.items():\n",
    "        newlist.append([k, v[0], v[1]])\n",
    "\n",
    "newlist\n",
    "# newdict = {}\n",
    "# for i in allvalue:\n",
    "#     newdict[(key, i[2])] = i[1]\n",
    "# print(newdict)\n",
    "# retl = ''\n",
    "# for i in newdict:\n",
    "#     retl += '{} {} {}\\n'.format(key, newdict[i], i[1])\n",
    "# ret = retl + '\\n'\n",
    "# print(ret)"
   ]
  },
  {
   "cell_type": "code",
   "execution_count": null,
   "metadata": {},
   "outputs": [],
   "source": []
  }
 ]
}