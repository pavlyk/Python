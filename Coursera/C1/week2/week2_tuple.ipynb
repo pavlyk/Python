{
  "nbformat": 4,
  "nbformat_minor": 0,
  "metadata": {
    "colab": {
      "name": "week2_tuple.ipynb",
      "provenance": [],
      "authorship_tag": "ABX9TyNshE4sZGFF4+NISdry4lJr",
      "include_colab_link": true
    },
    "kernelspec": {
      "name": "python3",
      "display_name": "Python 3"
    }
  },
  "cells": [
    {
      "cell_type": "markdown",
      "metadata": {
        "id": "view-in-github",
        "colab_type": "text"
      },
      "source": [
        "<a href=\"https://colab.research.google.com/github/pavlyk/Python/blob/master/week2_tuple.ipynb\" target=\"_parent\"><img src=\"https://colab.research.google.com/assets/colab-badge.svg\" alt=\"Open In Colab\"/></a>"
      ]
    },
    {
      "cell_type": "markdown",
      "metadata": {
        "id": "XoZsokST3udc",
        "colab_type": "text"
      },
      "source": [
        "#**Tuple (кортёж)**"
      ]
    },
    {
      "cell_type": "markdown",
      "metadata": {
        "id": "9hy0a_fz3x-L",
        "colab_type": "text"
      },
      "source": [
        "###Кортеж - это неизменяемый и более быстрый аналог списка. Он защищает хранимые данные от непреднамеренных изменений и может использоваться в качестве ключа в словарях (словарь - ассоциативный массив в python)."
      ]
    },
    {
      "cell_type": "markdown",
      "metadata": {
        "id": "cW7tcKVT31q_",
        "colab_type": "text"
      },
      "source": [
        "```\n",
        " my_tuple = () # Создание кортежа с помощью литерала\n",
        " my_tuple = tuple() # Создание кортежа с помощью встроенной функции\n",
        "\n",
        " my_tuple = (1,2,['a','b'],4,5) # Инициализация кортежа\n",
        "\n",
        " my_tuple = tuple('hello world') # Создание кортежа из итерируемого объекта\n",
        " my_tuple\n",
        "('h', 'e', 'l', 'l', 'o', ' ', 'w', 'o', 'r', 'l', 'd')\n",
        "\n",
        " my_tuple = tuple(2**x for x in [0, 1, 2, 3]) # Генератор кортежей\n",
        " my_tuple\n",
        "(1, 2, 4, 8)\n",
        "```"
      ]
    },
    {
      "cell_type": "markdown",
      "metadata": {
        "id": "ZtxNDe3k38T-",
        "colab_type": "text"
      },
      "source": [
        "```\n",
        "Доступные методы\n",
        "my_tuple.count(x) - возвращает кол-во элементов со значением x\n",
        "my_tuple.index(x,start,end) - возвращает индекс первого найденного x, можно задать промежуток для поиска (опционально)\n",
        "В каких случаях использовать?\n",
        "Для хранения данных вместо списка (если они не предполагают изменений).\n",
        "```"
      ]
    }
  ]
} 
