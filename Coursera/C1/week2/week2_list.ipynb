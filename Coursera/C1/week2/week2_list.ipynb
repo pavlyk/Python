{
  "nbformat": 4,
  "nbformat_minor": 0,
  "metadata": {
    "colab": {
      "name": "week2_list.ipynb",
      "provenance": [],
      "collapsed_sections": [],
      "authorship_tag": "ABX9TyMUOmL8nMe+MIl/t2vjuDfV",
      "include_colab_link": true
    },
    "kernelspec": {
      "name": "python3",
      "display_name": "Python 3"
    }
  },
  "cells": [
    {
      "cell_type": "markdown",
      "metadata": {
        "id": "view-in-github",
        "colab_type": "text"
      },
      "source": [
        "<a href=\"https://colab.research.google.com/github/pavlyk/Python/blob/master/week2_list.ipynb\" target=\"_parent\"><img src=\"https://colab.research.google.com/assets/colab-badge.svg\" alt=\"Open In Colab\"/></a>"
      ]
    },
    {
      "cell_type": "markdown",
      "metadata": {
        "id": "jaJCGi2I2QPV",
        "colab_type": "text"
      },
      "source": [
        "#**List (список)**"
      ]
    },
    {
      "cell_type": "markdown",
      "metadata": {
        "id": "JoCIMzrJ2QEg",
        "colab_type": "text"
      },
      "source": [
        "###Базовая структура данных в python. Элементы в списке хранятся последовательно, каждому из них присвоены индексы, начиная с нуля. В отличие от массива, список может хранить объекты любого типа."
      ]
    },
    {
      "cell_type": "markdown",
      "metadata": {
        "id": "zaL4VW8K2yOo",
        "colab_type": "text"
      },
      "source": [
        "```\n",
        " my_list = [] # Создание пустого списка с помощью литерала списка\n",
        " my_list = list() # Создание пустого списка с помощью встроенной функции\n",
        "\n",
        " my_list = [1,2,['a','b'],4,5] # Инициализация списка\n",
        "\n",
        " my_list = list('hello world') # Создание списка из итерируемого объекта\n",
        " my_list\n",
        "['h', 'e', 'l', 'l', 'o', ' ', 'w', 'o', 'r', 'l', 'd']\n",
        "\n",
        " my_list = [x for x in range(10)] # Генератор списков в действии\n",
        " my_list\n",
        "[0, 1, 2, 3, 4, 5, 6, 7, 8, 9]\n",
        "```"
      ]
    },
    {
      "cell_type": "markdown",
      "metadata": {
        "id": "lt8bjcEm2kEz",
        "colab_type": "text"
      },
      "source": [
        "```\n",
        "Доступные методы\n",
        "my_list.append(x) - добавляет x в конец списка\n",
        "my_list.clear() - очищает список\n",
        "my_list.copy() - возвращает копию списка my_list\n",
        "my_list.count(x) - возвращает кол-во элементов со значением x\n",
        "my_list.extend(x) - добавляет элементы списка x к концу списка my_list\n",
        "my_list.index(x,start,end) - возвращает индекс первого найденного x, можно задать промежуток для поиска (опционально)\n",
        "my_list.insert(index, x) - вставляет x на заданную позицию\n",
        "my_list.pop(index) - возвращает элемент с указанным индексом и удаляет его, если индекс не указан - возвращается и удаляется последний элемент\n",
        "my_list.remove(x) - удаляет первый элемент со значением x\n",
        "my_list.reverse() - инвертирует порядок элементов в списке\n",
        "my_list.sort(key=x) сортирует список на основе функции x\n",
        "В каких случаях использовать?\n",
        "Для хранения элементов, объединенных каким либо признаком.\n",
        "В случае, если изменение элементов и/или расширение списка не предполагается, следует использовать неизменяемый аналог - кортеж.\n",
        "```"
      ]
    },
    {
      "cell_type": "markdown",
      "metadata": {
        "id": "S4C2oYU6xyRv",
        "colab_type": "text"
      },
      "source": [
        "###### Найти медиану случайного списка"
      ]
    },
    {
      "cell_type": "code",
      "metadata": {
        "id": "MAdSqDvlyGhR",
        "colab_type": "code",
        "outputId": "206fd745-6255-4116-f322-8152a9dc2063",
        "colab": {
          "base_uri": "https://localhost:8080/",
          "height": 34
        }
      },
      "source": [
        "import random\n",
        "\n",
        "numbers = []\n",
        "\n",
        "numbers_size = random.randint(10, 15)\n",
        "\n",
        "for _ in range(numbers_size):\n",
        "  numbers.append(random.randint(10, 20))\n",
        "\n",
        "print(numbers)"
      ],
      "execution_count": 0,
      "outputs": [
        {
          "output_type": "stream",
          "text": [
            "[17, 12, 15, 17, 11, 17, 18, 14, 18, 17, 15]\n"
          ],
          "name": "stdout"
        }
      ]
    },
    {
      "cell_type": "code",
      "metadata": {
        "id": "m7pjrvIDtIE1",
        "colab_type": "code",
        "outputId": "5d596ab0-c9ea-4d14-e044-d3cc40bcd1cc",
        "colab": {
          "base_uri": "https://localhost:8080/",
          "height": 34
        }
      },
      "source": [
        "numbers.sort()\n",
        "\n",
        "half_size = len(numbers) // 2\n",
        "median = None\n",
        "\n",
        "if numbers_size % 2 == 1: # Нечетный\n",
        "    median = numbers[half_size]\n",
        "else:\n",
        "    median = sum(numbers[half_size - 1:half_size + 1]) / 2\n",
        "\n",
        "print(median)"
      ],
      "execution_count": 0,
      "outputs": [
        {
          "output_type": "stream",
          "text": [
            "17\n"
          ],
          "name": "stdout"
        }
      ]
    },
    {
      "cell_type": "code",
      "metadata": {
        "id": "24GVs6PAuwTh",
        "colab_type": "code",
        "outputId": "1a72233f-a7ff-4635-c0e4-7b9cee5af3d1",
        "colab": {
          "base_uri": "https://localhost:8080/",
          "height": 34
        }
      },
      "source": [
        "import statistics\n",
        "\n",
        "statistics.median(numbers)"
      ],
      "execution_count": 0,
      "outputs": [
        {
          "output_type": "execute_result",
          "data": {
            "text/plain": [
              "17"
            ]
          },
          "metadata": {
            "tags": []
          },
          "execution_count": 7
        }
      ]
    }
  ]
} 
