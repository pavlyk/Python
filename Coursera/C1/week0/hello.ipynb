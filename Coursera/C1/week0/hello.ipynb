{
 "cells": [
  {
   "cell_type": "markdown",
   "metadata": {},
   "source": [
    "# Ячейка Markdown\n",
    "\n",
    "**Markdown** - простой язык для оформления документов.\n",
    "\n",
    "Поменять тип ячейки Esc - m\n",
    "\n",
    "Выполнить ячейку Shift + Enter"
   ]
  },
  {
   "cell_type": "markdown",
   "metadata": {},
   "source": [
    "# Заголовки\n",
    "# h1\n",
    "## h2\n",
    "### h3"
   ]
  },
  {
   "cell_type": "markdown",
   "metadata": {},
   "source": [
    "Выделение текста **жирным**"
   ]
  },
  {
   "cell_type": "markdown",
   "metadata": {},
   "source": [
    "# Блок кода Python\n",
    "```python\n",
    "print('Hello')\n",
    "```"
   ]
  },
  {
   "cell_type": "markdown",
   "metadata": {},
   "source": [
    "# Списки\n",
    "\n",
    "1. уровень\n",
    "    1. уровень\n",
    "    1. уровень\n",
    "        1. уровень\n",
    "           "
   ]
  },
  {
   "cell_type": "markdown",
   "metadata": {},
   "source": [
    "# Гиперссылки и изображения\n",
    "Открыть [yandex](http://ya.ru)\n",
    "![image](https://avatars.mds.yandex.net/get-pdb/1684402/7ffa7542-2857-4e05-b715-253f4226ae6d/s1200)"
   ]
  },
  {
   "cell_type": "code",
   "execution_count": null,
   "metadata": {},
   "outputs": [],
   "source": []
  }
 ],
 "metadata": {
  "kernelspec": {
   "display_name": "Python 3",
   "language": "python",
   "name": "python3"
  },
  "language_info": {
   "codemirror_mode": {
    "name": "ipython",
    "version": 3
   },
   "file_extension": ".py",
   "mimetype": "text/x-python",
   "name": "python",
   "nbconvert_exporter": "python",
   "pygments_lexer": "ipython3",
   "version": "3.7.3"
  }
 },
 "nbformat": 4,
 "nbformat_minor": 2
}
