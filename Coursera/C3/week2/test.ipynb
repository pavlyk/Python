{
 "metadata": {
  "language_info": {
   "codemirror_mode": {
    "name": "ipython",
    "version": 3
   },
   "file_extension": ".py",
   "mimetype": "text/x-python",
   "name": "python",
   "nbconvert_exporter": "python",
   "pygments_lexer": "ipython3",
   "version": "3.7.4-final"
  },
  "orig_nbformat": 2,
  "kernelspec": {
   "name": "python3",
   "display_name": "Python 3",
   "language": "python"
  }
 },
 "nbformat": 4,
 "nbformat_minor": 2,
 "cells": [
  {
   "cell_type": "code",
   "execution_count": 3,
   "metadata": {},
   "outputs": [
    {
     "output_type": "execute_result",
     "data": {
      "text/plain": [
       "<a class=\"other-project-link\" href=\"//commons.wikimedia.org/\">\n",
       "<div class=\"other-project-icon\">\n",
       "<div class=\"sprite svg-Commons-logo_sister\"></div>\n",
       "</div>\n",
       "<div class=\"other-project-text\">\n",
       "<span class=\"other-project-title jsl10n\" data-jsl10n=\"commons.name\">Commons</span>\n",
       "<span class=\"other-project-tagline jsl10n\" data-jsl10n=\"commons.slogan\">Freely usable photos &amp; more</span>\n",
       "</div>\n",
       "</a>"
      ]
     },
     "metadata": {},
     "execution_count": 3
    }
   ],
   "source": [
    "import requests\n",
    "resp = requests.get('https://www.wikipedia.org')\n",
    "html = resp.text\n",
    "from bs4 import BeautifulSoup\n",
    "soup = BeautifulSoup(html, 'lxml')\n",
    "bs_links = soup('a', 'other-project-link')\n",
    "bs_links[0]"
   ]
  },
  {
   "cell_type": "code",
   "execution_count": null,
   "metadata": {},
   "outputs": [],
   "source": []
  }
 ]
}