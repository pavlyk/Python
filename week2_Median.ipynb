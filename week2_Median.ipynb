{
  "nbformat": 4,
  "nbformat_minor": 0,
  "metadata": {
    "colab": {
      "name": "week2_Median.ipynb",
      "provenance": [],
      "collapsed_sections": [],
      "authorship_tag": "ABX9TyN4IObvkj1Ez6e2myP9nrxp",
      "include_colab_link": true
    },
    "kernelspec": {
      "name": "python3",
      "display_name": "Python 3"
    }
  },
  "cells": [
    {
      "cell_type": "markdown",
      "metadata": {
        "id": "view-in-github",
        "colab_type": "text"
      },
      "source": [
        "<a href=\"https://colab.research.google.com/github/pavlyk/Python/blob/master/week2_Median.ipynb\" target=\"_parent\"><img src=\"https://colab.research.google.com/assets/colab-badge.svg\" alt=\"Open In Colab\"/></a>"
      ]
    },
    {
      "cell_type": "markdown",
      "metadata": {
        "id": "S4C2oYU6xyRv",
        "colab_type": "text"
      },
      "source": [
        "### Найти медиану случайного списка"
      ]
    },
    {
      "cell_type": "code",
      "metadata": {
        "id": "MAdSqDvlyGhR",
        "colab_type": "code",
        "outputId": "206fd745-6255-4116-f322-8152a9dc2063",
        "colab": {
          "base_uri": "https://localhost:8080/",
          "height": 34
        }
      },
      "source": [
        "import random\n",
        "\n",
        "numbers = []\n",
        "\n",
        "numbers_size = random.randint(10, 15)\n",
        "\n",
        "for _ in range(numbers_size):\n",
        "  numbers.append(random.randint(10, 20))\n",
        "\n",
        "print(numbers)"
      ],
      "execution_count": 0,
      "outputs": [
        {
          "output_type": "stream",
          "text": [
            "[17, 12, 15, 17, 11, 17, 18, 14, 18, 17, 15]\n"
          ],
          "name": "stdout"
        }
      ]
    },
    {
      "cell_type": "code",
      "metadata": {
        "id": "m7pjrvIDtIE1",
        "colab_type": "code",
        "colab": {
          "base_uri": "https://localhost:8080/",
          "height": 34
        },
        "outputId": "5d596ab0-c9ea-4d14-e044-d3cc40bcd1cc"
      },
      "source": [
        "numbers.sort()\n",
        "\n",
        "half_size = len(numbers) // 2\n",
        "median = None\n",
        "\n",
        "if numbers_size % 2 == 1: # Нечетный\n",
        "    median = numbers[half_size]\n",
        "else:\n",
        "    median = sum(numbers[half_size - 1:half_size + 1]) / 2\n",
        "\n",
        "print(median)"
      ],
      "execution_count": 6,
      "outputs": [
        {
          "output_type": "stream",
          "text": [
            "17\n"
          ],
          "name": "stdout"
        }
      ]
    },
    {
      "cell_type": "code",
      "metadata": {
        "id": "24GVs6PAuwTh",
        "colab_type": "code",
        "colab": {
          "base_uri": "https://localhost:8080/",
          "height": 34
        },
        "outputId": "1a72233f-a7ff-4635-c0e4-7b9cee5af3d1"
      },
      "source": [
        "import statistics\n",
        "\n",
        "statistics.median(numbers)"
      ],
      "execution_count": 7,
      "outputs": [
        {
          "output_type": "execute_result",
          "data": {
            "text/plain": [
              "17"
            ]
          },
          "metadata": {
            "tags": []
          },
          "execution_count": 7
        }
      ]
    },
    {
      "cell_type": "code",
      "metadata": {
        "id": "o8i45IXEv3LP",
        "colab_type": "code",
        "colab": {}
      },
      "source": [
        ""
      ],
      "execution_count": 0,
      "outputs": []
    }
  ]
}