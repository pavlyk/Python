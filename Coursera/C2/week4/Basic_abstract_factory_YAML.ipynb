{
 "cells": [
  {
   "cell_type": "markdown",
   "metadata": {},
   "source": [
    "# Паттерн \"Абстрактная фабрика\""
   ]
  },
  {
   "cell_type": "markdown",
   "metadata": {},
   "source": [
    "Импортируем необходимые классы и методы"
   ]
  },
  {
   "cell_type": "code",
   "execution_count": 12,
   "metadata": {
    "collapsed": true
   },
   "outputs": [],
   "source": [
    "from abc import ABC, abstractmethod"
   ]
  },
  {
   "cell_type": "markdown",
   "metadata": {},
   "source": [
    "## 1. Объявим абстрактый класс фабрики\n",
    "\n",
    "Обявим методы, которые позволят создать персонажа, а также оружие и заклинание для него."
   ]
  },
  {
   "cell_type": "code",
   "execution_count": 13,
   "metadata": {
    "collapsed": true
   },
   "outputs": [],
   "source": [
    "class HeroFactory(ABC):\n",
    "    @abstractmethod\n",
    "    def create_hero(self, name):\n",
    "        pass\n",
    "    \n",
    "    @abstractmethod\n",
    "    def create_weapon(self):\n",
    "        pass\n",
    "    \n",
    "    @abstractmethod\n",
    "    def create_spell(self):\n",
    "        pass"
   ]
  },
  {
   "cell_type": "markdown",
   "metadata": {},
   "source": [
    "## 2. Определим конкретные фабрики \n",
    "\n",
    "Оределим конкретные фабрики и необходимые классы, для каждого из классов персонажей"
   ]
  },
  {
   "cell_type": "code",
   "execution_count": 60,
   "metadata": {
    "collapsed": true
   },
   "outputs": [],
   "source": [
    "class WarriorFactory(HeroFactory):\n",
    "    def create_hero(self, name):\n",
    "        return Warrior(name)\n",
    "    \n",
    "    def create_weapon(self):\n",
    "        return Claymore()\n",
    "    \n",
    "    def create_spell(self):\n",
    "        return Power()\n",
    "\n",
    "class Warrior:\n",
    "    def __init__(self, name):\n",
    "        self.name = name\n",
    "        self.weapon = None\n",
    "        self.armor = None\n",
    "        self.spell = None\n",
    "        \n",
    "    def add_weapon(self, weapon):\n",
    "        self.weapon = weapon\n",
    "        \n",
    "    def add_spell(self, spell):\n",
    "        self.spell = spell\n",
    "        \n",
    "    def hit(self):\n",
    "        print(f\"Warrior {self.name} hits with {self.weapon.hit()}\")\n",
    "        self.weapon.hit()\n",
    "        \n",
    "    def cast(self):\n",
    "        print(f\"Warrior {self.name} casts {self.spell.cast()}\")\n",
    "        self.spell.cast()\n",
    "        \n",
    "\n",
    "class Claymore:\n",
    "    def hit(self):\n",
    "        return \"Claymore\"\n",
    "\n",
    "\n",
    "class Power:\n",
    "    def cast(self):\n",
    "        return \"Power\"\n",
    "\n",
    "\n",
    "class MageFactory(HeroFactory):\n",
    "    def create_hero(self, name):\n",
    "        return Mage(name)\n",
    "    \n",
    "    def create_weapon(self):\n",
    "        return Staff()\n",
    "    \n",
    "    def create_spell(self):\n",
    "        return Fireball()\n",
    "\n",
    "\n",
    "class Mage:\n",
    "    def __init__(self, name):\n",
    "        self.name = name\n",
    "        self.weapon = None\n",
    "        self.armor = None\n",
    "        self.spell = None\n",
    "        \n",
    "    def add_weapon(self, weapon):\n",
    "        self.weapon = weapon\n",
    "        \n",
    "    def add_spell(self, spell):\n",
    "        self.spell = spell\n",
    "        \n",
    "    def hit(self):\n",
    "        print(f\"Mage {self.name} hits with {self.weapon.hit()}\")\n",
    "        self.weapon.hit()\n",
    "        \n",
    "    def cast(self):\n",
    "        print(f\"Mage {self.name} casts {self.spell.cast()}\")\n",
    "        self.spell.cast()\n",
    "\n",
    "        \n",
    "class Staff:\n",
    "    def hit(self):\n",
    "        return \"Staff\"\n",
    "    \n",
    "    \n",
    "class Fireball:\n",
    "    def cast(self):\n",
    "        return \"Fireball\"\n",
    "\n",
    "\n",
    "class AssassinFactory(HeroFactory):\n",
    "    def create_hero(self, name):\n",
    "        return Assassin(name)\n",
    "    \n",
    "    def create_weapon(self):\n",
    "        return Dagger()\n",
    "    \n",
    "    def create_spell(self):\n",
    "        return Invisibility()\n",
    "\n",
    "\n",
    "class Assassin:\n",
    "    def __init__(self, name):\n",
    "        self.name = name\n",
    "        self.weapon = None\n",
    "        self.armor = None\n",
    "        self.spell = None\n",
    "        \n",
    "    def add_weapon(self, weapon):\n",
    "        self.weapon = weapon\n",
    "        \n",
    "    def add_spell(self, spell):\n",
    "        self.spell = spell\n",
    "        \n",
    "    def hit(self):\n",
    "        print(f\"Assassin {self.name} hits with {self.weapon.hit()}\")\n",
    "        self.weapon.hit()\n",
    "        \n",
    "    def cast(self):\n",
    "        print(f\"Assassin {self.name} casts {self.spell.cast()}\")\n",
    "\n",
    "\n",
    "class Dagger:\n",
    "    def hit(self):\n",
    "        return \"Dagger\"\n",
    "    \n",
    "\n",
    "class Invisibility:\n",
    "    def cast(self):\n",
    "        return \"Invisibility\""
   ]
  },
  {
   "cell_type": "markdown",
   "metadata": {},
   "source": [
    "## 3. Определим функцию, создающую персонажей\n",
    "\n",
    "Определим функцию, зависящую от фабрики. Данная функция будет создавать прсонажа и его экипировку в зависимости от фабрики, которая будет передаваться в качестве аргумента."
   ]
  },
  {
   "cell_type": "code",
   "execution_count": null,
   "metadata": {},
   "outputs": [],
   "source": []
  },
  {
   "cell_type": "code",
   "execution_count": 43,
   "metadata": {},
   "outputs": [
    {
     "output_type": "stream",
     "name": "stdout",
     "text": [
      "Character new\n"
     ]
    },
    {
     "output_type": "execute_result",
     "data": {
      "text/plain": [
       "{'first': 'assassin', 'second': 'Pavlyk'}"
      ]
     },
     "metadata": {},
     "execution_count": 43
    }
   ],
   "source": [
    "import yaml\n",
    "\n",
    "hero_yaml = '''\n",
    "--- !Character # указывает, что хранящаяся ниже структура относиться к классу Character\n",
    "first: # реквизит first\n",
    "    assassin # значение реквизита\n",
    "second: # реквизит second\n",
    "    Pavlyk # значение реквизита\n",
    "'''\n",
    "\n",
    "hero = yaml.load(hero_yaml, Loader=yaml.Loader)\n",
    "hero.__dict__\n"
   ]
  },
  {
   "cell_type": "code",
   "execution_count": 46,
   "metadata": {},
   "outputs": [],
   "source": [
    "# В момент загрузки yaml'a автоматически понимает что это класс Character\n",
    "# создаем объект Character с реквизитами factory и name\n",
    "# т.к. реквизит factory не простого типа то ему написал отдельный обработчки factory_constructor\n",
    "\n",
    "hero_yaml = '''\n",
    "--- !Character # указывает, что хранящаяся ниже структура относиться к классу Character\n",
    "factory: # реквизит factory\n",
    "    !factory assassin # значение реквизита имеет тип factory и данные assassin\n",
    "name: # реквизит name\n",
    "    Pavlyk # значение реквизита\n",
    "'''"
   ]
  },
  {
   "cell_type": "code",
   "execution_count": 73,
   "metadata": {},
   "outputs": [],
   "source": [
    "def factory_constructor(loader, node):\n",
    "    # print('factory_constructor', loader, node) # loader это наш загрузчик где правила создания # node это наши данные где остановились\n",
    "    data = loader.construct_scalar(node) # construct_scalar checks that the given node is a scalar and returns its value.\n",
    "    if data == \"assassin\":\n",
    "        return AssassinFactory\n",
    "    elif data == \"mage\":\n",
    "        return MageFactory\n",
    "    else:\n",
    "        return WarriorFactory\n",
    "\n",
    "class Character(yaml.YAMLObject):\n",
    "    yaml_tag = \"!Character\"\n",
    "    # def __new__(cls):\n",
    "    #     print('Character new')\n",
    "    #     return super().__new__(cls)\n",
    "\n",
    "    # @classmethod # Если переопределить класс from_yaml то можно вернуть что угодно.после load(), иначе возвращается класс Character\n",
    "    # def from_yaml(Class, loader, node):\n",
    "    #     return 'hello world'\n",
    "\n",
    "    def create_hero(self):\n",
    "        print(self.factory)\n",
    "        hero = self.factory().create_hero(self.name)\n",
    "        \n",
    "        # weapon = factory.create_weapon()\n",
    "        # ability = factory.create_spell()\n",
    "        \n",
    "        # hero.add_weapon(weapon)\n",
    "        # hero.add_spell(ability)\n",
    "        \n",
    "        return hero"
   ]
  },
  {
   "cell_type": "code",
   "execution_count": 74,
   "metadata": {},
   "outputs": [],
   "source": [
    "loader = yaml.Loader\n",
    "loader.add_constructor(\"!factory\", factory_constructor)"
   ]
  },
  {
   "cell_type": "code",
   "execution_count": 75,
   "metadata": {},
   "outputs": [
    {
     "output_type": "stream",
     "name": "stdout",
     "text": [
      "<class '__main__.Character'>\n<__main__.Character object at 0x107462890>\n{'factory': <class '__main__.AssassinFactory'>, 'name': 'Pavlyk'}\n<class '__main__.AssassinFactory'>\n<__main__.Assassin object at 0x106d55ed0>\n"
     ]
    }
   ],
   "source": [
    "# hero = yaml.load(hero_yaml) # Старый синтаксис\n",
    "character = yaml.load(hero_yaml, Loader=loader)\n",
    "print(type(character))\n",
    "print(character)\n",
    "print(character.__dict__)\n",
    "\n",
    "hero = character.create_hero()\n",
    "print(hero)\n",
    "# hero.hit()"
   ]
  },
  {
   "cell_type": "markdown",
   "metadata": {},
   "source": [
    "## 4. Попробуем создать персонажей различных классов\n",
    "\n",
    "Попробуем создать персонажей различных классов, передавая функции назличные фабрики."
   ]
  },
  {
   "cell_type": "code",
   "execution_count": 5,
   "metadata": {},
   "outputs": [
    {
     "name": "stdout",
     "output_type": "stream",
     "text": [
      "Assassin Nagibator casts Invisibility\n",
      "Assassin Nagibator hits with Dagger\n"
     ]
    }
   ],
   "source": [
    "factory = AssassinFactory()\n",
    "player = create_hero(factory)\n",
    "player.cast()\n",
    "player.hit()"
   ]
  },
  {
   "cell_type": "code",
   "execution_count": 6,
   "metadata": {},
   "outputs": [
    {
     "name": "stdout",
     "output_type": "stream",
     "text": [
      "Mage Nagibator casts Fireball\n",
      "Mage Nagibator hits with Staff\n"
     ]
    }
   ],
   "source": [
    "factory = MageFactory()\n",
    "player = create_hero(factory)\n",
    "player.cast()\n",
    "player.hit()"
   ]
  }
 ],
 "metadata": {
  "kernelspec": {
   "display_name": "Python 3",
   "language": "python",
   "name": "python3"
  },
  "language_info": {
   "codemirror_mode": {
    "name": "ipython",
    "version": 3
   },
   "file_extension": ".py",
   "mimetype": "text/x-python",
   "name": "python",
   "nbconvert_exporter": "python",
   "pygments_lexer": "ipython3",
   "version": "3.7.4-final"
  }
 },
 "nbformat": 4,
 "nbformat_minor": 2
}