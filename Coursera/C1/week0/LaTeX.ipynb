{
 "cells": [
  {
   "cell_type": "markdown",
   "metadata": {},
   "source": [
    "# Набор формул LaTeX"
   ]
  },
  {
   "cell_type": "markdown",
   "metadata": {},
   "source": [
    "### Общие принципы\n",
    "```\n",
    "Знаки $ ... $ $$ ... $$ переключают в математический режим.\n",
    "При этом $x^2 + y^2$ дают формулу внутри сторки, а $$x^2 + y^2$$ на отдельной строке```\n",
    "$x^2 + y^2$"
   ]
  },
  {
   "cell_type": "markdown",
   "metadata": {},
   "source": [
    "```$x^2$``` ---> $x^2$\n",
    "\n",
    "```$\\pi$``` ---> $\\pi$\n",
    "\n",
    "```$\\overline{x}$``` ---> $\\overline{x}$\n",
    "\n",
    "```$\\frac{a}{b}$``` ---> $\\frac{a}{b}$\n",
    "\n"
   ]
  },
  {
   "cell_type": "markdown",
   "metadata": {},
   "source": [
    "```$$ \\sqrt{ \\frac{2 D c_o}{c_h}} $$```$$ \\sqrt{ \\frac{2 D c_o}{c_h}} $$"
   ]
  },
  {
   "cell_type": "markdown",
   "metadata": {},
   "source": [
    "```$$\\lim_{x\\to 0} \\frac{\\sin(x)}{x}=1$$``` $$\\lim_{x\\to 0} \\frac{\\sin(x)}{x}=1$$"
   ]
  }
 ],
 "metadata": {
  "kernelspec": {
   "display_name": "Python 3",
   "language": "python",
   "name": "python3"
  },
  "language_info": {
   "codemirror_mode": {
    "name": "ipython",
    "version": 3
   },
   "file_extension": ".py",
   "mimetype": "text/x-python",
   "name": "python",
   "nbconvert_exporter": "python",
   "pygments_lexer": "ipython3",
   "version": "3.7.3"
  }
 },
 "nbformat": 4,
 "nbformat_minor": 2
}
